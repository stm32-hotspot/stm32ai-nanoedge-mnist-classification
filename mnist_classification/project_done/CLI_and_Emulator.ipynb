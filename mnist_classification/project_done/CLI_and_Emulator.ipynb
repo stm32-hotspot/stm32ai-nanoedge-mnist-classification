{
 "cells": [
  {
   "attachments": {},
   "cell_type": "markdown",
   "metadata": {},
   "source": [
    "# steps to follow to use the NanoEdge AI Studio CLI\n",
    "\n",
    "First lauchn the cli engine in a cmd:\n",
    "* Download the cli in NanoEdge AI Studion\n",
    "* extract the cli (.zip)\n",
    "* open the folder extracted\n",
    "* open cmd (type cmd in the windows search bar)\n",
    "* launch cli: **neai_cli engine -launch**\n",
    "\n",
    "then, use the cli using the following commands in another cmd:\n",
    "* open a new cmd\n",
    "* activate license: **neai_cli license -activate -key YOUR_LICENCE**\n",
    "* set a proxy (optional, you might need to change the address): **neai_cli proxy -set -host 127.0.0.1 -port 9000**\n",
    "* create project: **neai_cli project -create -n_class -slug_name \"MNIST\" -mcu \"cortex-m4_st_stm32f4_nucleo-f401re\" -number_axis 1**\n",
    "* add signals 0 to 9 to the just created MNIST project: \n",
    "    * **neai_cli signal -import -file_path \"..\\train_files\\classif_0.csv\"  -delimiter \",\" -project MNIST**\n",
    "    * **neai_cli signal -import -file_path \"..\\train_files\\classif_1.csv\"  -delimiter \",\" -project MNIST**\n",
    "    * **neai_cli signal -import -file_path \"..\\train_files\\classif_2.csv\"  -delimiter \",\" -project MNIST**\n",
    "    * **neai_cli signal -import -file_path \"..\\train_files\\classif_3.csv\"  -delimiter \",\" -project MNIST**\n",
    "    * **neai_cli signal -import -file_path \"..\\train_files\\classif_4.csv\"  -delimiter \",\" -project MNIST**\n",
    "    * **neai_cli signal -import -file_path \"..\\train_files\\classif_5.csv\"  -delimiter \",\" -project MNIST**\n",
    "    * **neai_cli signal -import -file_path \"..\\train_files\\classif_6.csv\"  -delimiter \",\" -project MNIST**\n",
    "    * **neai_cli signal -import -file_path \"..\\train_files\\classif_7.csv\"  -delimiter \",\" -project MNIST**\n",
    "    * **neai_cli signal -import -file_path \"..\\train_files\\classif_8.csv\"  -delimiter \",\" -project MNIST**\n",
    "    * **neai_cli signal -import -file_path \"..\\train_files\\classif_9.csv\"  -delimiter \",\" -project MNIST**\n",
    "\n",
    "With the project created and the signals imported, you can now:\n",
    "* run benchmark: **neai_cli optimization -launch -project MNIST -signals \"1,2,3,4,5,6,7,8,9,10\"**\n",
    "* get benchmark progress: **neai_cli optimization -project MNIST -progress -id 1** \n",
    "* get benchmark results:**neai_cli optimization -project MNIST -result -id 1** \n",
    "* stop benchmark when you want, or wait the end: **neai_cli optimization -stop**\n",
    "\n",
    "Now that the benchmark is done, you can compile the emulator and the library:\n",
    "* compile emulator: **neai_cli emulator -compile -project MNIST -id 1 -output_zip \"..\\\\emulator_MNIST.zip\"** \n",
    "* compile library: **neai_cli library -compile -project MNIST -id 1 -output_zip \"..\\\\lib_MNIST.zip\"** \n",
    "\n",
    "Once you are done with the CLI, you can shutdown it and close the 2 cmd:\n",
    "* Cli shutdown: **neai_cli engine -shutdown**\n"
   ]
  },
  {
   "attachments": {},
   "cell_type": "markdown",
   "metadata": {},
   "source": [
    "# emulator\n",
    "\n",
    "you can predict signals in a file using this command, just give the path of the file afer the argument -file: **NanoEdgeAI_Class_Emulator.exe neai_classification --knowledge_path knowledge.dat --file ..\\\\test_files\\\\test_classif_1.csv**\n",
    "<br>\n",
    "\n",
    "In the following code, we predict the class of the signals of our 9 files containing the digits by calling the command with the 9 files paths. We only get the prediction vector for each file and plot the confusion matrix with all the vectors:\n"
   ]
  },
  {
   "cell_type": "code",
   "execution_count": 20,
   "metadata": {},
   "outputs": [
    {
     "name": "stdout",
     "output_type": "stream",
     "text": [
      "emulators\\NanoEdgeAI_Class_Emulator.exe neai_classification --knowledge_path emulators\\knowledge.dat --file test_files\\test_classif_0.csv\n",
      "emulators\\NanoEdgeAI_Class_Emulator.exe neai_classification --knowledge_path emulators\\knowledge.dat --file test_files\\test_classif_1.csv\n",
      "emulators\\NanoEdgeAI_Class_Emulator.exe neai_classification --knowledge_path emulators\\knowledge.dat --file test_files\\test_classif_2.csv\n",
      "emulators\\NanoEdgeAI_Class_Emulator.exe neai_classification --knowledge_path emulators\\knowledge.dat --file test_files\\test_classif_3.csv\n",
      "emulators\\NanoEdgeAI_Class_Emulator.exe neai_classification --knowledge_path emulators\\knowledge.dat --file test_files\\test_classif_4.csv\n",
      "emulators\\NanoEdgeAI_Class_Emulator.exe neai_classification --knowledge_path emulators\\knowledge.dat --file test_files\\test_classif_5.csv\n",
      "emulators\\NanoEdgeAI_Class_Emulator.exe neai_classification --knowledge_path emulators\\knowledge.dat --file test_files\\test_classif_6.csv\n",
      "emulators\\NanoEdgeAI_Class_Emulator.exe neai_classification --knowledge_path emulators\\knowledge.dat --file test_files\\test_classif_7.csv\n",
      "emulators\\NanoEdgeAI_Class_Emulator.exe neai_classification --knowledge_path emulators\\knowledge.dat --file test_files\\test_classif_8.csv\n",
      "emulators\\NanoEdgeAI_Class_Emulator.exe neai_classification --knowledge_path emulators\\knowledge.dat --file test_files\\test_classif_9.csv\n"
     ]
    },
    {
     "data": {
      "text/plain": [
       "[[198, 0, 1, 0, 0, 0, 1, 0, 0, 0],\n",
       " [0, 196, 1, 0, 0, 0, 0, 1, 2, 0],\n",
       " [1, 3, 174, 3, 3, 0, 6, 4, 4, 2],\n",
       " [1, 3, 5, 166, 1, 11, 2, 0, 2, 9],\n",
       " [0, 2, 0, 0, 171, 0, 6, 2, 0, 19],\n",
       " [5, 2, 1, 4, 3, 160, 8, 1, 5, 11],\n",
       " [2, 2, 2, 0, 1, 2, 190, 0, 1, 0],\n",
       " [2, 7, 2, 0, 4, 0, 0, 167, 0, 18],\n",
       " [1, 6, 2, 10, 1, 5, 1, 2, 161, 11],\n",
       " [1, 0, 3, 3, 11, 0, 1, 10, 5, 166]]"
      ]
     },
     "execution_count": 20,
     "metadata": {},
     "output_type": "execute_result"
    }
   ],
   "source": [
    "import json\n",
    "import subprocess\n",
    "\n",
    "confusion_matrix = []\n",
    "\n",
    "# for my 10 files\n",
    "for i in range(10):\n",
    "    # where the file is\n",
    "    file_path = f'test_files\\\\test_classif_{i}.csv'\n",
    "    # create the query \n",
    "    query = \"emulators\\\\NanoEdgeAI_Class_Emulator.exe neai_classification --knowledge_path emulators\\\\knowledge.dat --file \"+ file_path\n",
    "    print(query)\n",
    "\n",
    "    # get the result of the query\n",
    "    result = subprocess.check_output(query, shell=True)\n",
    "    result = json.loads(result.decode('utf-8'))\n",
    "    # create the confusion matrix\n",
    "    confusion_matrix.append(result['classification_summary']['classified'])\n",
    "\n",
    "\n",
    "confusion_matrix"
   ]
  },
  {
   "attachments": {},
   "cell_type": "markdown",
   "metadata": {},
   "source": [
    "If you don't know how to read the matrix above, search how to read a confusion matrix on google"
   ]
  }
 ],
 "metadata": {
  "kernelspec": {
   "display_name": "Python 3",
   "language": "python",
   "name": "python3"
  },
  "language_info": {
   "codemirror_mode": {
    "name": "ipython",
    "version": 3
   },
   "file_extension": ".py",
   "mimetype": "text/x-python",
   "name": "python",
   "nbconvert_exporter": "python",
   "pygments_lexer": "ipython3",
   "version": "3.9.10"
  },
  "orig_nbformat": 4,
  "vscode": {
   "interpreter": {
    "hash": "e318c9fc361443c1946673158ba044567d1b9329b0dc72a7cab7027945332b38"
   }
  }
 },
 "nbformat": 4,
 "nbformat_minor": 2
}
