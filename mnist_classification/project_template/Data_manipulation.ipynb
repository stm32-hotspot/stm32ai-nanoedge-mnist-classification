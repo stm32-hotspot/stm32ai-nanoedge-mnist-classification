{
 "cells": [
  {
   "attachments": {},
   "cell_type": "markdown",
   "metadata": {},
   "source": [
    "# DEMO 3: MNIST classification with NEAI CLI\n",
    "\n",
    "The goal of this demo is to use the MNIST dataset to create a N Class classification project with NanoEdge using the command line interface (CLI).<br>\n",
    "Here, in this notebook, we will discover the dataset and covert it in the NEAI format. \n",
    "<br><br>\n",
    "The original MNIST dataset can be found here: <href>http://yann.lecun.com/exdb/mnist/<href><br>\n",
    "\n"
   ]
  },
  {
   "attachments": {},
   "cell_type": "markdown",
   "metadata": {},
   "source": [
    "The dataset files are idx3-ubytes files, we first need to install the python package to convert them. <br>\n",
    "Here we use idx2numpy to convert those files into numpy arrays:"
   ]
  },
  {
   "cell_type": "code",
   "execution_count": null,
   "metadata": {},
   "outputs": [],
   "source": [
    "# install python package \n",
    "!pip install idx2numpy\n",
    "!pip install numpy\n",
    "!pip install pandas\n",
    "!pip install matplotlib"
   ]
  },
  {
   "cell_type": "code",
   "execution_count": null,
   "metadata": {},
   "outputs": [],
   "source": [
    "import gzip # to unzip files\n",
    "import idx2numpy # to convert idx files\n",
    "\n",
    "import numpy as np # to use numpy arrays\n",
    "import pandas as pd # to use dataframe\n",
    "\n",
    "from matplotlib import pyplot as plt # to display images of the dataset\n",
    "import os # to access some directories"
   ]
  },
  {
   "attachments": {},
   "cell_type": "markdown",
   "metadata": {},
   "source": [
    "## extracting the images and their labels from the original dataset zip"
   ]
  },
  {
   "cell_type": "code",
   "execution_count": null,
   "metadata": {},
   "outputs": [],
   "source": [
    "# unzip the image zip\n",
    "train_digit_file = gzip.open('data/train-images-idx3-ubyte.gz','r')\n",
    "# read the ubyte file as np array\n",
    "image_train = idx2numpy.convert_from_file(train_digit_file)\n",
    "# print the shape: 60000 images of size 28x28\n",
    "print(image_train.shape)"
   ]
  },
  {
   "cell_type": "code",
   "execution_count": null,
   "metadata": {},
   "outputs": [],
   "source": [
    "# unzip the label zip\n",
    "train_digit_labels = gzip.open('data/train-labels-idx1-ubyte.gz','r')\n",
    "# read the ubyte file as np array\n",
    "label_train = idx2numpy.convert_from_file(train_digit_labels)\n",
    "# print the shape : 60000 labels (0 to 9)\n",
    "print(label_train.shape)"
   ]
  },
  {
   "cell_type": "code",
   "execution_count": null,
   "metadata": {},
   "outputs": [],
   "source": [
    "# for the 5 first digit\n",
    "for i in range(5):\n",
    "    # print the label\n",
    "    print('label:',label_train[i])\n",
    "    # plot the image\n",
    "    plt.imshow(image_train[i], cmap='gray')\n",
    "    plt.show()"
   ]
  },
  {
   "attachments": {},
   "cell_type": "markdown",
   "metadata": {},
   "source": [
    "## Reshape images to NanoEdge format  \n",
    "Currently, we extracted 60000 images of size 28x28 and we also have their corresponding labels.\n",
    "<br>\n",
    "But to use them in NanoEdge Ai Studio, we need to do a 2 things:\n",
    "<br>\n",
    "<ul>\n",
    "  <li>Convert our 28x28 images to vector of size 784</li>\n",
    "  <li>Create multiples .csv file for each digit instead of having them all in one .csv</li>\n",
    "</ul>"
   ]
  },
  {
   "attachments": {},
   "cell_type": "markdown",
   "metadata": {},
   "source": [
    "First convert the images to vector : <br><br>\n",
    "<img src='img_to_vector.PNG'  width=30% height=30%/>"
   ]
  },
  {
   "cell_type": "code",
   "execution_count": null,
   "metadata": {},
   "outputs": [],
   "source": [
    "# convert 28x28 image to 784x1 vectors\n",
    "X_train = np.reshape(image_train,(image_train.shape[0],784))\n",
    "print('X_train shape:',X_train.shape)\n",
    "\n",
    "# we don't touch the label\n",
    "y_train = label_train\n",
    "print('y_train shape:',y_train.shape)"
   ]
  },
  {
   "cell_type": "code",
   "execution_count": null,
   "metadata": {},
   "outputs": [],
   "source": [
    "# Display first digit of the dataset as image and as the converted vector (values) \n",
    "\n",
    "# image\n",
    "plt.imshow(image_train[0], cmap='gray')\n",
    "plt.show()\n",
    "\n",
    "# vector value of the converted image\n",
    "plt.plot(X_train[0])\n",
    "plt.show()"
   ]
  },
  {
   "attachments": {},
   "cell_type": "markdown",
   "metadata": {},
   "source": [
    "Then, we create a .csv file for each digit. <br>\n",
    "We will create a pandas dataframe for convenience. The dataframe will contains the 784 value of each digit and the label to know what digit we are looking at"
   ]
  },
  {
   "cell_type": "code",
   "execution_count": null,
   "metadata": {},
   "outputs": [],
   "source": [
    "# create a dataframe from the numpy array containing all the digit as vector\n",
    "df = pd.DataFrame(X_train) # so contains 784 values between 0 and 255\n",
    "\n",
    "# then we add the label as the first columns of the dataframe\n",
    "df.insert(0, 'label', y_train)\n",
    "df"
   ]
  },
  {
   "cell_type": "code",
   "execution_count": 32,
   "metadata": {},
   "outputs": [],
   "source": [
    "# this function split a dataset per digit and save them as csv\n",
    "\n",
    "def split_dataframe(dataframe,n_samples,path):\n",
    "    # for each digit\n",
    "    for digit in dataframe.label.unique():\n",
    "\n",
    "        # create a query\n",
    "        query = 'label == ' + str(digit)\n",
    "        print(query)\n",
    "\n",
    "        # execute the query\n",
    "        digit_df = dataframe.query(query)\n",
    "        # get a sample of 500 signals\n",
    "        digit_df = digit_df.sample(n = n_samples)\n",
    "\n",
    "        # drop the label\n",
    "        values = digit_df.drop('label', axis = 1)\n",
    "\n",
    "        # save it to csv\n",
    "        values.to_csv(f'{path}classif_{digit}.csv', header=None, index= None)"
   ]
  },
  {
   "cell_type": "code",
   "execution_count": 33,
   "metadata": {},
   "outputs": [
    {
     "name": "stdout",
     "output_type": "stream",
     "text": [
      "label == 5\n",
      "label == 0\n",
      "label == 4\n",
      "label == 1\n",
      "label == 9\n",
      "label == 2\n",
      "label == 3\n",
      "label == 6\n",
      "label == 7\n",
      "label == 8\n"
     ]
    }
   ],
   "source": [
    "# create a folder for the training csv\n",
    "os.system('mkdir train_files')\n",
    "split_dataframe(df,500,'./train_files/')"
   ]
  },
  {
   "attachments": {},
   "cell_type": "markdown",
   "metadata": {},
   "source": [
    "We can also do the same for the testing file. <br>\n",
    "All the previous code is the following cell"
   ]
  },
  {
   "cell_type": "code",
   "execution_count": 34,
   "metadata": {},
   "outputs": [
    {
     "name": "stdout",
     "output_type": "stream",
     "text": [
      "label == 5\n",
      "label == 0\n",
      "label == 4\n",
      "label == 1\n",
      "label == 9\n",
      "label == 2\n",
      "label == 3\n",
      "label == 6\n",
      "label == 7\n",
      "label == 8\n"
     ]
    }
   ],
   "source": [
    "# unzip the image zip and convert from idx files to arrays\n",
    "image_test = idx2numpy.convert_from_file(gzip.open('data/t10k-images-idx3-ubyte.gz','r'))\n",
    "# reshape to vector\n",
    "X_test = np.reshape(image_test,(image_test.shape[0],784))\n",
    "# convert the labels from idx files to arrays\n",
    "y_test = idx2numpy.convert_from_file(gzip.open('data/t10k-labels-idx1-ubyte.gz','r'))\n",
    "\n",
    "# create the dataframe with the digit as vector and the corresponding label\n",
    "df_test = pd.DataFrame(X_train)\n",
    "df_test.insert(0, 'label', y_train)\n",
    "\n",
    "# create test file directory and create the csv for each digit\n",
    "os.system('mkdir test_files')\n",
    "split_dataframe(df_test,200,'./test_files/test_')"
   ]
  }
 ],
 "metadata": {
  "kernelspec": {
   "display_name": "Python 3",
   "language": "python",
   "name": "python3"
  },
  "language_info": {
   "codemirror_mode": {
    "name": "ipython",
    "version": 3
   },
   "file_extension": ".py",
   "mimetype": "text/x-python",
   "name": "python",
   "nbconvert_exporter": "python",
   "pygments_lexer": "ipython3",
   "version": "3.9.10"
  },
  "orig_nbformat": 4,
  "vscode": {
   "interpreter": {
    "hash": "e318c9fc361443c1946673158ba044567d1b9329b0dc72a7cab7027945332b38"
   }
  }
 },
 "nbformat": 4,
 "nbformat_minor": 2
}
